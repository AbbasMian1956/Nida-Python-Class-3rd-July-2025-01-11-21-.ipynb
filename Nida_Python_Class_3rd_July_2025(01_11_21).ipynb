{
  "nbformat": 4,
  "nbformat_minor": 0,
  "metadata": {
    "colab": {
      "provenance": []
    },
    "kernelspec": {
      "name": "python3",
      "display_name": "Python 3"
    },
    "language_info": {
      "name": "python"
    }
  },
  "cells": [
    {
      "cell_type": "markdown",
      "source": [
        "We need to talk about append, extend, remove & delete method of list"
      ],
      "metadata": {
        "id": "XIkiHYlc2NZp"
      }
    },
    {
      "cell_type": "code",
      "source": [
        "# List Method (Add & Remove)\n",
        "\n",
        "a = [\"a\", \"b\", \"c\", \"d\", \"e\", \"f\", \"g\"]\n",
        "print(a)"
      ],
      "metadata": {
        "colab": {
          "base_uri": "https://localhost:8080/"
        },
        "id": "Pv_uT43g2efe",
        "outputId": "92478110-74f8-4e4e-a507-2b6bb5a09b34"
      },
      "execution_count": null,
      "outputs": [
        {
          "output_type": "stream",
          "name": "stdout",
          "text": [
            "['a', 'b', 'c', 'd', 'e', 'f', 'g']\n"
          ]
        }
      ]
    },
    {
      "cell_type": "code",
      "source": [
        "a = [\"a\", \"b\", \"c\"]\n",
        "a.append(\"d\")\n",
        "print(a)"
      ],
      "metadata": {
        "colab": {
          "base_uri": "https://localhost:8080/"
        },
        "id": "G2NUFqwI4EyQ",
        "outputId": "17862094-6e4e-4a15-fae7-b353d96c4e71"
      },
      "execution_count": null,
      "outputs": [
        {
          "output_type": "stream",
          "name": "stdout",
          "text": [
            "['a', 'b', 'c', 'd']\n"
          ]
        }
      ]
    },
    {
      "cell_type": "code",
      "source": [
        "a = [\"Hello\", \"How are you?\"]\n",
        "a.append(\"Ayan\")\n",
        "print(a)"
      ],
      "metadata": {
        "colab": {
          "base_uri": "https://localhost:8080/"
        },
        "id": "ILgZdBhE43wI",
        "outputId": "480d480b-3b29-4b58-c67f-86daedb33165"
      },
      "execution_count": null,
      "outputs": [
        {
          "output_type": "stream",
          "name": "stdout",
          "text": [
            "['Hello', 'How are you?', 'Ayan']\n"
          ]
        }
      ]
    },
    {
      "cell_type": "code",
      "source": [
        "a = [\"a\", \"b\", \"c\"]\n",
        "b = [\"d\", \"e\", \"f\"]\n",
        "print(a)\n",
        "a.extend(b)\n",
        "print(a)"
      ],
      "metadata": {
        "id": "WNCMrQur5k5V",
        "colab": {
          "base_uri": "https://localhost:8080/"
        },
        "outputId": "3b95a826-2b73-476f-c1d3-663c6735a63e"
      },
      "execution_count": null,
      "outputs": [
        {
          "output_type": "stream",
          "name": "stdout",
          "text": [
            "['a', 'b', 'c']\n",
            "['a', 'b', 'c', 'd', 'e', 'f']\n"
          ]
        }
      ]
    },
    {
      "cell_type": "code",
      "source": [
        "a = [\"a\", \"b\", \"c\"]\n",
        "b = [\"ayan\"]\n",
        "print(a)\n",
        "a.extend(b)\n",
        "print(a)"
      ],
      "metadata": {
        "colab": {
          "base_uri": "https://localhost:8080/"
        },
        "id": "qwO3bXo7AeMk",
        "outputId": "1e7cfe93-2f0e-4b9d-ab76-32b29ef7591c"
      },
      "execution_count": null,
      "outputs": [
        {
          "output_type": "stream",
          "name": "stdout",
          "text": [
            "['a', 'b', 'c']\n",
            "['a', 'b', 'c', 'ayan']\n"
          ]
        }
      ]
    },
    {
      "cell_type": "code",
      "source": [
        "a = [\"a\", \"b\", \"c\"]\n",
        "b = [\"d\", \"e\", \"f\"]\n",
        "print(a)\n",
        "a.extend(\"ayan\")\n",
        "print(a)"
      ],
      "metadata": {
        "colab": {
          "base_uri": "https://localhost:8080/"
        },
        "id": "Kwnle4DvBV6w",
        "outputId": "0d41c715-9e9e-41bd-afc0-6677ad91637c"
      },
      "execution_count": null,
      "outputs": [
        {
          "output_type": "stream",
          "name": "stdout",
          "text": [
            "['a', 'b', 'c']\n",
            "['a', 'b', 'c', 'a', 'y', 'a', 'n']\n"
          ]
        }
      ]
    },
    {
      "cell_type": "code",
      "source": [
        "a = [\"a\", \"b\", \"c\"]\n",
        "# print(a)\n",
        "a.remove(\"b\")\n",
        "print(a)"
      ],
      "metadata": {
        "colab": {
          "base_uri": "https://localhost:8080/"
        },
        "id": "Dg7CSRDTCY3q",
        "outputId": "703cbdf8-6a58-4124-8ec5-a8747f53824a"
      },
      "execution_count": null,
      "outputs": [
        {
          "output_type": "stream",
          "name": "stdout",
          "text": [
            "['a', 'c']\n"
          ]
        }
      ]
    },
    {
      "cell_type": "code",
      "source": [
        "a = [\"a\", \"b\", \"c\"]\n",
        "a.pop(1)\n",
        "print(a)"
      ],
      "metadata": {
        "colab": {
          "base_uri": "https://localhost:8080/"
        },
        "id": "xdf9zMHDDh0y",
        "outputId": "4c41f181-a135-4188-8237-2c269bf2a062"
      },
      "execution_count": null,
      "outputs": [
        {
          "output_type": "stream",
          "name": "stdout",
          "text": [
            "['a', 'c']\n"
          ]
        }
      ]
    },
    {
      "cell_type": "code",
      "source": [
        "a = [\"a\", \"b\", \"c\"]\n",
        "a.pop()\n",
        "print(a)"
      ],
      "metadata": {
        "colab": {
          "base_uri": "https://localhost:8080/"
        },
        "id": "3nQ3bGrGJqqT",
        "outputId": "b975ed41-921e-46d0-9f9d-c88b5f4928f2"
      },
      "execution_count": null,
      "outputs": [
        {
          "output_type": "stream",
          "name": "stdout",
          "text": [
            "['a', 'b']\n"
          ]
        }
      ]
    },
    {
      "cell_type": "code",
      "source": [
        "a = [\"a\", \"b\", \"c\"]\n",
        "a.pop(2)\n",
        "print(a)"
      ],
      "metadata": {
        "colab": {
          "base_uri": "https://localhost:8080/"
        },
        "id": "vJQzsOPpJ0yM",
        "outputId": "8b3d76dd-2571-4d28-9827-b35657269c47"
      },
      "execution_count": null,
      "outputs": [
        {
          "output_type": "stream",
          "name": "stdout",
          "text": [
            "['a', 'b']\n"
          ]
        }
      ]
    },
    {
      "cell_type": "code",
      "source": [
        "a = [\"a\", \"b\", \"c\"]\n",
        "del a[1]\n",
        "print(a)"
      ],
      "metadata": {
        "colab": {
          "base_uri": "https://localhost:8080/"
        },
        "id": "7RhUlNDgKR3g",
        "outputId": "e05eff72-baa2-40e9-81a1-1fca78410772"
      },
      "execution_count": null,
      "outputs": [
        {
          "output_type": "stream",
          "name": "stdout",
          "text": [
            "['a', 'c']\n"
          ]
        }
      ]
    },
    {
      "cell_type": "code",
      "source": [
        "a = [\"a\", \"b\", \"c\"]\n",
        "del a[2]\n",
        "print(a)"
      ],
      "metadata": {
        "colab": {
          "base_uri": "https://localhost:8080/"
        },
        "id": "3BAPr70xLGlV",
        "outputId": "d16349d0-d671-4c14-b3a1-ec44a2c813e8"
      },
      "execution_count": null,
      "outputs": [
        {
          "output_type": "stream",
          "name": "stdout",
          "text": [
            "['a', 'b']\n"
          ]
        }
      ]
    },
    {
      "cell_type": "code",
      "source": [
        "a = [\"a\", \"b\", \"c\"]\n",
        "print(a)\n",
        "a.clear()\n",
        "print(a)"
      ],
      "metadata": {
        "colab": {
          "base_uri": "https://localhost:8080/"
        },
        "id": "H9d3yXsmM93m",
        "outputId": "dab271c1-9b97-4fa2-f42f-3821388885fe"
      },
      "execution_count": null,
      "outputs": [
        {
          "output_type": "stream",
          "name": "stdout",
          "text": [
            "['a', 'b', 'c']\n",
            "[]\n"
          ]
        }
      ]
    },
    {
      "cell_type": "markdown",
      "source": [
        "Tuple in Python"
      ],
      "metadata": {
        "id": "llo-6sEGSthJ"
      }
    },
    {
      "cell_type": "markdown",
      "source": [
        "TUPLE\n",
        "\n",
        "Tuples are used to store multiple items in a single variable.\n",
        "\n",
        "A tuple is a collection which is ordered and unchangeable."
      ],
      "metadata": {
        "id": "J39-GeW7THpb"
      }
    },
    {
      "cell_type": "code",
      "source": [
        "a = (\"a\", \"b\", \"c\", \"d\")\n",
        "print(a)"
      ],
      "metadata": {
        "colab": {
          "base_uri": "https://localhost:8080/"
        },
        "id": "LfvrmYLoSxgR",
        "outputId": "932f3a4e-d4e0-4d77-d892-b3748086182c"
      },
      "execution_count": null,
      "outputs": [
        {
          "output_type": "stream",
          "name": "stdout",
          "text": [
            "('a', 'b', 'c', 'd')\n"
          ]
        }
      ]
    },
    {
      "cell_type": "code",
      "source": [
        "a = (\"Ayan\", 14, False, 12.5)\n",
        "print(a)"
      ],
      "metadata": {
        "colab": {
          "base_uri": "https://localhost:8080/"
        },
        "id": "tXOsRpdSVjLn",
        "outputId": "bebf5776-8ac2-40a0-adb0-be7d9cedfdb4"
      },
      "execution_count": null,
      "outputs": [
        {
          "output_type": "stream",
          "name": "stdout",
          "text": [
            "('Ayan', 14, False, 12.5)\n"
          ]
        }
      ]
    },
    {
      "cell_type": "code",
      "source": [
        "a = (\"a\", \"b\", \"c\", \"d\")\n",
        "print(a[1])"
      ],
      "metadata": {
        "colab": {
          "base_uri": "https://localhost:8080/"
        },
        "id": "nxdSmsYFWWSA",
        "outputId": "eefee930-8758-4e80-806e-98b01ad1bef9"
      },
      "execution_count": null,
      "outputs": [
        {
          "output_type": "stream",
          "name": "stdout",
          "text": [
            "b\n"
          ]
        }
      ]
    },
    {
      "cell_type": "code",
      "source": [
        "a = (\"a\", \"b\", \"c\", \"d\")\n",
        "print(a[3])"
      ],
      "metadata": {
        "colab": {
          "base_uri": "https://localhost:8080/"
        },
        "id": "vj1fQ06oW_tb",
        "outputId": "3e3dd4d3-fcdb-44db-f5c0-9759b901c39c"
      },
      "execution_count": null,
      "outputs": [
        {
          "output_type": "stream",
          "name": "stdout",
          "text": [
            "d\n"
          ]
        }
      ]
    },
    {
      "cell_type": "code",
      "source": [
        "#     0    1    2\n",
        "a = (\"a\", \"b\", \"c\")\n",
        "#    -3   -2   -1\n",
        "print(a[1])\n",
        "print(a[-2])"
      ],
      "metadata": {
        "colab": {
          "base_uri": "https://localhost:8080/"
        },
        "id": "HJdQBzpLXQeV",
        "outputId": "c74b9c82-dca0-4327-a31d-733dea8ac806"
      },
      "execution_count": null,
      "outputs": [
        {
          "output_type": "stream",
          "name": "stdout",
          "text": [
            "b\n",
            "b\n"
          ]
        }
      ]
    },
    {
      "cell_type": "code",
      "source": [
        "#     0    1    2    3    4    5\n",
        "a = (\"a\", \"b\", \"c\", \"d\", \"e\", \"f\")\n",
        "#    -6   -5   -4   -3   -2   -1\n",
        "\n",
        "print(a[0:5:2])\n",
        "# print(a[-2])"
      ],
      "metadata": {
        "colab": {
          "base_uri": "https://localhost:8080/"
        },
        "id": "fKQybvzjzf53",
        "outputId": "3deda207-3e53-498d-ee78-dec698a3031c"
      },
      "execution_count": null,
      "outputs": [
        {
          "output_type": "stream",
          "name": "stdout",
          "text": [
            "('a', 'c', 'e')\n"
          ]
        }
      ]
    },
    {
      "cell_type": "code",
      "source": [
        "#     0    1    2    3    4    5\n",
        "a = (\"a\", \"b\", \"c\", \"d\", \"e\", \"f\")\n",
        "b = [\"a\", \"b\"]\n",
        "#    -6   -5   -4   -3   -2   -1\n",
        "print(type(a))\n",
        "print(type(b))"
      ],
      "metadata": {
        "colab": {
          "base_uri": "https://localhost:8080/"
        },
        "id": "F8eJe7OL1SoQ",
        "outputId": "15adb84c-a403-4fd6-ae4f-dd03b9c11406"
      },
      "execution_count": null,
      "outputs": [
        {
          "output_type": "stream",
          "name": "stdout",
          "text": [
            "<class 'tuple'>\n",
            "<class 'list'>\n"
          ]
        }
      ]
    },
    {
      "cell_type": "code",
      "source": [
        "a = (\"a\",) # It's a tuple\n",
        "b = (\"a\") # It's not a tuple\n",
        "print(type(a))\n",
        "print(type(b))"
      ],
      "metadata": {
        "colab": {
          "base_uri": "https://localhost:8080/"
        },
        "id": "GJpKGHaX9Nzh",
        "outputId": "c2196f0e-4ff1-49a4-f1ed-da443625b803"
      },
      "execution_count": null,
      "outputs": [
        {
          "output_type": "stream",
          "name": "stdout",
          "text": [
            "<class 'tuple'>\n",
            "<class 'str'>\n"
          ]
        }
      ]
    },
    {
      "cell_type": "code",
      "source": [
        "a = tuple((\"a\",))\n",
        "b = tuple((\"a\"))\n",
        "# print(a)\n",
        "print(type(a))\n",
        "print(type(b))"
      ],
      "metadata": {
        "colab": {
          "base_uri": "https://localhost:8080/"
        },
        "id": "zF7ccY1w-QRi",
        "outputId": "46df1ed5-9e27-4bcb-96ca-e358a55cc62d"
      },
      "execution_count": null,
      "outputs": [
        {
          "output_type": "stream",
          "name": "stdout",
          "text": [
            "<class 'tuple'>\n",
            "<class 'tuple'>\n"
          ]
        }
      ]
    },
    {
      "cell_type": "code",
      "source": [
        "a = tuple((\"a\", \"b\"))\n",
        "\n",
        "\n",
        "print(type(a))\n",
        "print(a)"
      ],
      "metadata": {
        "colab": {
          "base_uri": "https://localhost:8080/"
        },
        "id": "KU5y-sibAGnc",
        "outputId": "df3021fb-6cc6-4c2a-b7a7-3046a86ba73a"
      },
      "execution_count": null,
      "outputs": [
        {
          "output_type": "stream",
          "name": "stdout",
          "text": [
            "<class 'tuple'>\n",
            "('a', 'b')\n"
          ]
        }
      ]
    },
    {
      "cell_type": "code",
      "source": [
        "a = (\"a\", \"b\", \"c\", \"d\")\n",
        "b = [\"a\", \"b\"]\n",
        "b.append(\"e\")\n",
        "print(b)"
      ],
      "metadata": {
        "colab": {
          "base_uri": "https://localhost:8080/"
        },
        "id": "EJeHwhHCBTvB",
        "outputId": "fead18fb-0819-414f-bd9d-cdc97e285d3c"
      },
      "execution_count": null,
      "outputs": [
        {
          "output_type": "stream",
          "name": "stdout",
          "text": [
            "['a', 'b', 'e']\n"
          ]
        }
      ]
    }
  ]
}